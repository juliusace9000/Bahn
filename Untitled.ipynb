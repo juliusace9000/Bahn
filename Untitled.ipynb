{
 "cells": [
  {
   "cell_type": "code",
   "execution_count": 1,
   "id": "6f8ac26a",
   "metadata": {},
   "outputs": [],
   "source": [
    "x = 5\n"
   ]
  },
  {
   "cell_type": "code",
   "execution_count": 2,
   "id": "9b893fa3",
   "metadata": {},
   "outputs": [
    {
     "name": "stdout",
     "output_type": "stream",
     "text": [
      "5\n"
     ]
    }
   ],
   "source": [
    "print(x)"
   ]
  },
  {
   "cell_type": "code",
   "execution_count": 3,
   "id": "9f349b50",
   "metadata": {},
   "outputs": [],
   "source": [
    "import requests"
   ]
  },
  {
   "cell_type": "code",
   "execution_count": 4,
   "id": "87497e8d",
   "metadata": {},
   "outputs": [],
   "source": [
    "clientid = \"52e03cb779352cb1a4665642fdca25fe\"\n",
    "apikey = \"28d386dd30329b4a7975ec458409c424\""
   ]
  },
  {
   "cell_type": "code",
   "execution_count": 5,
   "id": "4a073c29",
   "metadata": {},
   "outputs": [],
   "source": [
    "import http.client"
   ]
  },
  {
   "cell_type": "code",
   "execution_count": 6,
   "id": "3a039529",
   "metadata": {},
   "outputs": [],
   "source": [
    "conn = http.client.HTTPSConnection(\"apis.deutschebahn.com\")"
   ]
  },
  {
   "cell_type": "code",
   "execution_count": 7,
   "id": "830b907b",
   "metadata": {},
   "outputs": [],
   "source": [
    "headers = {\n",
    "    'DB-Client-Id': \"clientid\",\n",
    "    'DB-Api-Key': \"apikey\",\n",
    "    'accept': \"application/xml\"\n",
    "    }"
   ]
  },
  {
   "cell_type": "code",
   "execution_count": 8,
   "id": "ed4d9eca",
   "metadata": {},
   "outputs": [],
   "source": [
    "conn.request(\"GET\", \"/db-api-marketplace/apis/timetables/v1/station/REPLACE_PATTERN\", headers=headers)"
   ]
  },
  {
   "cell_type": "code",
   "execution_count": 9,
   "id": "a28fe7fd",
   "metadata": {},
   "outputs": [],
   "source": [
    "res = conn.getresponse()\n",
    "data = res.read()\n"
   ]
  },
  {
   "cell_type": "code",
   "execution_count": 10,
   "id": "b2189b69",
   "metadata": {},
   "outputs": [
    {
     "name": "stdout",
     "output_type": "stream",
     "text": [
      "<?xml version=\"1.0\" encoding=\"UTF-8\"?>\n",
      "<errorResponse>\n",
      "  <httpCode>401</httpCode>\n",
      "  <httpMessage>Unauthorized</httpMessage>\n",
      "  <moreInformation>Invalid client id or secret.</moreInformation>\n",
      "</errorResponse>\n"
     ]
    }
   ],
   "source": [
    "print(data.decode(\"utf-8\"))"
   ]
  },
  {
   "cell_type": "code",
   "execution_count": null,
   "id": "9a34ddc8",
   "metadata": {},
   "outputs": [],
   "source": []
  }
 ],
 "metadata": {
  "kernelspec": {
   "display_name": "Python 3 (ipykernel)",
   "language": "python",
   "name": "python3"
  },
  "language_info": {
   "codemirror_mode": {
    "name": "ipython",
    "version": 3
   },
   "file_extension": ".py",
   "mimetype": "text/x-python",
   "name": "python",
   "nbconvert_exporter": "python",
   "pygments_lexer": "ipython3",
   "version": "3.9.6"
  }
 },
 "nbformat": 4,
 "nbformat_minor": 5
}
